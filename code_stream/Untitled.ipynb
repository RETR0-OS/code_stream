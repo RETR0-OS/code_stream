{
 "cells": [
  {
   "cell_type": "code",
   "execution_count": 1,
   "id": "3285b84f-a55b-4327-8bea-bc9427ad7bb3",
   "metadata": {
    "code_stream": {
     "cell_id": "cell_010a678e-1256-4051-a426-92047c0b3c5a",
     "last_synced": 1759807920354,
     "sync_enabled": true,
     "sync_hash": "abcdef"
    }
   },
   "outputs": [
    {
     "name": "stdout",
     "output_type": "stream",
     "text": [
      "Hello World\n"
     ]
    }
   ],
   "source": [
    "print(\"Hello World 1234\")"
   ]
  }
 ],
 "metadata": {
  "kernelspec": {
   "display_name": "Python 3 (ipykernel)",
   "language": "python",
   "name": "python3"
  },
  "language_info": {
   "codemirror_mode": {
    "name": "ipython",
    "version": 3
   },
   "file_extension": ".py",
   "mimetype": "text/x-python",
   "name": "python",
   "nbconvert_exporter": "python",
   "pygments_lexer": "ipython3",
   "version": "3.13.5"
  }
 },
 "nbformat": 4,
 "nbformat_minor": 5
}
